{
  "nbformat": 4,
  "nbformat_minor": 0,
  "metadata": {
    "colab": {
      "name": "fashion_MNIST.ipynb",
      "provenance": []
    },
    "kernelspec": {
      "name": "python3",
      "display_name": "Python 3"
    },
    "accelerator": "GPU"
  },
  "cells": [
    {
      "cell_type": "code",
      "metadata": {
        "id": "jV706QAR7kyh"
      },
      "source": [
        "import tensorflow as tf\n",
        "from tensorflow import keras\n",
        "import numpy as np"
      ],
      "execution_count": null,
      "outputs": []
    },
    {
      "cell_type": "code",
      "metadata": {
        "id": "VjR7tLeR7x2G"
      },
      "source": [
        "fashion_MNIST = keras.datasets.fashion_mnist"
      ],
      "execution_count": null,
      "outputs": []
    },
    {
      "cell_type": "code",
      "metadata": {
        "colab": {
          "base_uri": "https://localhost:8080/"
        },
        "id": "bV2UNLcb77VX",
        "outputId": "e058d054-e817-4409-e77e-a5050e0e96b0"
      },
      "source": [
        "(train_images, train_labels), (test_images, test_labels) = fashion_MNIST.load_data()"
      ],
      "execution_count": null,
      "outputs": [
        {
          "output_type": "stream",
          "name": "stdout",
          "text": [
            "Downloading data from https://storage.googleapis.com/tensorflow/tf-keras-datasets/train-labels-idx1-ubyte.gz\n",
            "32768/29515 [=================================] - 0s 0us/step\n",
            "40960/29515 [=========================================] - 0s 0us/step\n",
            "Downloading data from https://storage.googleapis.com/tensorflow/tf-keras-datasets/train-images-idx3-ubyte.gz\n",
            "26427392/26421880 [==============================] - 0s 0us/step\n",
            "26435584/26421880 [==============================] - 0s 0us/step\n",
            "Downloading data from https://storage.googleapis.com/tensorflow/tf-keras-datasets/t10k-labels-idx1-ubyte.gz\n",
            "16384/5148 [===============================================================================================] - 0s 0us/step\n",
            "Downloading data from https://storage.googleapis.com/tensorflow/tf-keras-datasets/t10k-images-idx3-ubyte.gz\n",
            "4423680/4422102 [==============================] - 0s 0us/step\n",
            "4431872/4422102 [==============================] - 0s 0us/step\n"
          ]
        }
      ]
    },
    {
      "cell_type": "code",
      "metadata": {
        "id": "yajGww-L8cU8"
      },
      "source": [
        "#scaling down images to (0-1)\n",
        "train_images = train_images/255.0\n",
        "test_images = test_images/255.0"
      ],
      "execution_count": null,
      "outputs": []
    },
    {
      "cell_type": "code",
      "metadata": {
        "colab": {
          "base_uri": "https://localhost:8080/"
        },
        "id": "vD54H-1p8w3B",
        "outputId": "a3521ea1-a2d1-4fb3-f7b2-08387e5d6eb5"
      },
      "source": [
        "train_images[2].shape"
      ],
      "execution_count": null,
      "outputs": [
        {
          "output_type": "execute_result",
          "data": {
            "text/plain": [
              "(28, 28)"
            ]
          },
          "metadata": {},
          "execution_count": 5
        }
      ]
    },
    {
      "cell_type": "code",
      "metadata": {
        "id": "amF6cGCBfU-w"
      },
      "source": [
        "from keras.utils import np_utils\n",
        "\n",
        "train_labels = np_utils.to_categorical(train_labels)\n",
        "test_labels = np_utils.to_categorical(test_labels)\n",
        "number_of_classes = train_labels.shape[1]"
      ],
      "execution_count": null,
      "outputs": []
    },
    {
      "cell_type": "code",
      "metadata": {
        "id": "rT5LYPtb9Di8"
      },
      "source": [
        "#reshape\n",
        "train_images = train_images.reshape(len(train_images), 28, 28, 1)\n",
        "test_images = test_images.reshape(len(test_images), 28, 28, 1)"
      ],
      "execution_count": null,
      "outputs": []
    },
    {
      "cell_type": "code",
      "metadata": {
        "colab": {
          "base_uri": "https://localhost:8080/"
        },
        "id": "EAQbRNfqQSYe",
        "outputId": "835adb66-b348-4d02-88f9-6a0a08555fef"
      },
      "source": [
        "train_images.shape"
      ],
      "execution_count": null,
      "outputs": [
        {
          "output_type": "execute_result",
          "data": {
            "text/plain": [
              "(60000, 28, 28, 1)"
            ]
          },
          "metadata": {},
          "execution_count": 8
        }
      ]
    },
    {
      "cell_type": "code",
      "metadata": {
        "id": "M1grqb0u9lbP"
      },
      "source": [
        "from keras.models import Sequential\n",
        "from keras.layers import Dense, Flatten, Dropout\n",
        "from keras.layers.convolutional import Conv2D, MaxPooling2D"
      ],
      "execution_count": null,
      "outputs": []
    },
    {
      "cell_type": "code",
      "metadata": {
        "colab": {
          "base_uri": "https://localhost:8080/"
        },
        "id": "bj-AnABxdxme",
        "outputId": "c765f9d8-89af-4695-acac-d42f20c777ff"
      },
      "source": [
        "nn = Sequential()\n",
        "\n",
        "nn.add(Conv2D(filters=64, kernel_size=(4,4), input_shape=(28, 28, 1), activation='relu'))\n",
        "\n",
        "nn.add(MaxPooling2D(pool_size=(2, 2)))\n",
        "\n",
        "nn.add(Flatten())\n",
        "\n",
        "nn.add(Dense(128, activation='relu'))\n",
        "\n",
        "nn.add(Dropout(0.5))\n",
        "\n",
        "nn.add(Dense(number_of_classes, activation='softmax'))\n",
        "\n",
        "nn.compile(loss='categorical_crossentropy', optimizer='rmsprop', metrics=['accuracy'])\n",
        "\n",
        "nn.fit(train_images, train_labels, batch_size=500, epochs=10, verbose=1, validation_split=0.1)"
      ],
      "execution_count": null,
      "outputs": [
        {
          "output_type": "stream",
          "name": "stdout",
          "text": [
            "Epoch 1/10\n",
            "108/108 [==============================] - 3s 23ms/step - loss: 0.7792 - accuracy: 0.7319 - val_loss: 0.4560 - val_accuracy: 0.8363\n",
            "Epoch 2/10\n",
            "108/108 [==============================] - 2s 21ms/step - loss: 0.4620 - accuracy: 0.8405 - val_loss: 0.3837 - val_accuracy: 0.8598\n",
            "Epoch 3/10\n",
            "108/108 [==============================] - 2s 21ms/step - loss: 0.3927 - accuracy: 0.8630 - val_loss: 0.3238 - val_accuracy: 0.8793\n",
            "Epoch 4/10\n",
            "108/108 [==============================] - 2s 20ms/step - loss: 0.3506 - accuracy: 0.8769 - val_loss: 0.2994 - val_accuracy: 0.8895\n",
            "Epoch 5/10\n",
            "108/108 [==============================] - 2s 20ms/step - loss: 0.3255 - accuracy: 0.8847 - val_loss: 0.3018 - val_accuracy: 0.8890\n",
            "Epoch 6/10\n",
            "108/108 [==============================] - 2s 20ms/step - loss: 0.3034 - accuracy: 0.8926 - val_loss: 0.2708 - val_accuracy: 0.9012\n",
            "Epoch 7/10\n",
            "108/108 [==============================] - 2s 21ms/step - loss: 0.2896 - accuracy: 0.8966 - val_loss: 0.2808 - val_accuracy: 0.8988\n",
            "Epoch 8/10\n",
            "108/108 [==============================] - 2s 21ms/step - loss: 0.2756 - accuracy: 0.9016 - val_loss: 0.2582 - val_accuracy: 0.9063\n",
            "Epoch 9/10\n",
            "108/108 [==============================] - 2s 20ms/step - loss: 0.2632 - accuracy: 0.9056 - val_loss: 0.2578 - val_accuracy: 0.9075\n",
            "Epoch 10/10\n",
            "108/108 [==============================] - 2s 20ms/step - loss: 0.2512 - accuracy: 0.9087 - val_loss: 0.2504 - val_accuracy: 0.9093\n"
          ]
        }
      ]
    }
  ]
}
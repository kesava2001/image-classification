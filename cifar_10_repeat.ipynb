{
  "nbformat": 4,
  "nbformat_minor": 0,
  "metadata": {
    "colab": {
      "name": "cifar_10_repeat.ipynb",
      "provenance": []
    },
    "kernelspec": {
      "name": "python3",
      "display_name": "Python 3"
    },
    "accelerator": "GPU"
  },
  "cells": [
    {
      "cell_type": "code",
      "metadata": {
        "id": "vXERnlOJciCa"
      },
      "source": [
        "import numpy as np"
      ],
      "execution_count": null,
      "outputs": []
    },
    {
      "cell_type": "code",
      "metadata": {
        "id": "ZHBwrZMAdaP0",
        "colab": {
          "base_uri": "https://localhost:8080/"
        },
        "outputId": "2d927941-5ace-4297-ae6d-a7fedb337d3c"
      },
      "source": [
        "import tensorflow\n",
        "\n",
        "(x_train, y_train), (x_test, y_test) = tensorflow.keras.datasets.cifar10.load_data()"
      ],
      "execution_count": null,
      "outputs": [
        {
          "output_type": "stream",
          "text": [
            "Downloading data from https://www.cs.toronto.edu/~kriz/cifar-10-python.tar.gz\n",
            "170500096/170498071 [==============================] - 11s 0us/step\n"
          ],
          "name": "stdout"
        }
      ]
    },
    {
      "cell_type": "code",
      "metadata": {
        "id": "p2y6DQZ6d5EN"
      },
      "source": [
        "x_train = x_train/255.0\n",
        "x_test = x_test/255.0"
      ],
      "execution_count": null,
      "outputs": []
    },
    {
      "cell_type": "code",
      "metadata": {
        "id": "-F4paCi_eHEM"
      },
      "source": [
        "x_train = x_train.reshape(len(x_train), 32, 32, 3)\n",
        "x_test = x_test.reshape(len(x_test), 32, 32, 3)"
      ],
      "execution_count": null,
      "outputs": []
    },
    {
      "cell_type": "code",
      "metadata": {
        "id": "SgR_5hQGem6L"
      },
      "source": [
        "from tensorflow import keras\n",
        "from keras.utils import np_utils\n",
        "\n",
        "y_Train = np_utils.to_categorical(y_train)\n",
        "y_Test = np_utils.to_categorical(y_test)"
      ],
      "execution_count": null,
      "outputs": []
    },
    {
      "cell_type": "code",
      "metadata": {
        "id": "DQMwWubVfW1R"
      },
      "source": [
        "model = keras.models.Sequential([\n",
        "                                keras.layers.Conv2D(512, kernel_size=(2,2), input_shape=(32, 32, 3), activation='relu', padding='same'),\n",
        "                                keras.layers.AvgPool2D((2,2)),\n",
        "                                #after passing through the above pooling layer the image shape will be 16x16x3\n",
        "                                keras.layers.Conv2D(512, kernel_size=(2,2), activation='relu', padding='same'),\n",
        "                                keras.layers.AvgPool2D((2,2)),\n",
        "                                #8x8x3\n",
        "                                keras.layers.Conv2D(256, kernel_size=(2,2), activation='relu', padding='same'),\n",
        "                                keras.layers.AvgPool2D((2,2)),\n",
        "                                #4x4x3\n",
        "                                keras.layers.Conv2D(256, kernel_size=(2,2), activation='relu', padding='same'),\n",
        "                                keras.layers.AvgPool2D((2,2)),\n",
        "                                #2x2x3\n",
        "                          \n",
        "                                keras.layers.Flatten(),\n",
        "\n",
        "                                keras.layers.Dense(2048, activation='relu'),\n",
        "                                keras.layers.Dropout(0.5),\n",
        "                                keras.layers.Dense(1024, activation='relu'),\n",
        "                                keras.layers.Dropout(0.5),\n",
        "                                keras.layers.Dense(256, activation='relu'),\n",
        "                                keras.layers.Dropout(0.5),\n",
        "                                keras.layers.Dense(10, activation='softmax')\n",
        "])\n",
        "\n",
        "model.compile(optimizer='adam', loss='categorical_crossentropy', metrics=['accuracy'])"
      ],
      "execution_count": null,
      "outputs": []
    },
    {
      "cell_type": "code",
      "metadata": {
        "colab": {
          "base_uri": "https://localhost:8080/"
        },
        "id": "tA5iu8sPj0S8",
        "outputId": "5be1d96d-1091-4895-f509-31949568a757"
      },
      "source": [
        "model.fit(x_train, y_Train, batch_size=256, epochs=5, verbose=1, validation_split=0.2)"
      ],
      "execution_count": null,
      "outputs": [
        {
          "output_type": "stream",
          "text": [
            "Epoch 1/5\n",
            "157/157 [==============================] - 67s 429ms/step - loss: 0.1593 - accuracy: 0.9450 - val_loss: 1.1137 - val_accuracy: 0.7587\n",
            "Epoch 2/5\n",
            "157/157 [==============================] - 67s 427ms/step - loss: 0.1577 - accuracy: 0.9463 - val_loss: 1.1011 - val_accuracy: 0.7653\n",
            "Epoch 3/5\n",
            "157/157 [==============================] - 67s 427ms/step - loss: 0.1454 - accuracy: 0.9507 - val_loss: 1.1171 - val_accuracy: 0.7637\n",
            "Epoch 4/5\n",
            "157/157 [==============================] - 67s 426ms/step - loss: 0.1387 - accuracy: 0.9524 - val_loss: 1.1284 - val_accuracy: 0.7578\n",
            "Epoch 5/5\n",
            "157/157 [==============================] - 67s 427ms/step - loss: 0.1300 - accuracy: 0.9556 - val_loss: 1.1990 - val_accuracy: 0.7615\n"
          ],
          "name": "stdout"
        },
        {
          "output_type": "execute_result",
          "data": {
            "text/plain": [
              "<tensorflow.python.keras.callbacks.History at 0x7fd0e6be1290>"
            ]
          },
          "metadata": {
            "tags": []
          },
          "execution_count": 19
        }
      ]
    },
    {
      "cell_type": "code",
      "metadata": {
        "id": "WEwpWF3hk9kO"
      },
      "source": [
        "preds = model.predict(x_test)\n",
        "\n",
        "predictions = [np.argmax(x) for x in preds]"
      ],
      "execution_count": null,
      "outputs": []
    },
    {
      "cell_type": "code",
      "metadata": {
        "colab": {
          "base_uri": "https://localhost:8080/"
        },
        "id": "EWiCxFPJnvhI",
        "outputId": "a3b9ed39-a731-45bc-b293-22ef246c591d"
      },
      "source": [
        "from sklearn.metrics import accuracy_score\n",
        "\n",
        "Y_test = y_test.reshape(-1,)\n",
        "\n",
        "acc = accuracy_score(Y_test, predictions)\n",
        "print(acc)"
      ],
      "execution_count": null,
      "outputs": [
        {
          "output_type": "stream",
          "text": [
            "0.7557\n"
          ],
          "name": "stdout"
        }
      ]
    },
    {
      "cell_type": "code",
      "metadata": {
        "id": "W2FLteITQg-p"
      },
      "source": [
        "model.save('/content/drive/MyDrive/Colab Notebooks/70%accuracy.h5')"
      ],
      "execution_count": null,
      "outputs": []
    },
    {
      "cell_type": "code",
      "metadata": {
        "id": "bFc9nEjmU8Qj",
        "colab": {
          "base_uri": "https://localhost:8080/"
        },
        "outputId": "20bd9cfd-2de9-403e-ddc3-52a941e079a6"
      },
      "source": [
        "model.summary()"
      ],
      "execution_count": null,
      "outputs": [
        {
          "output_type": "stream",
          "text": [
            "Model: \"sequential_1\"\n",
            "_________________________________________________________________\n",
            "Layer (type)                 Output Shape              Param #   \n",
            "=================================================================\n",
            "conv2d_3 (Conv2D)            (None, 30, 30, 256)       7168      \n",
            "_________________________________________________________________\n",
            "max_pooling2d_2 (MaxPooling2 (None, 15, 15, 256)       0         \n",
            "_________________________________________________________________\n",
            "conv2d_4 (Conv2D)            (None, 13, 13, 128)       295040    \n",
            "_________________________________________________________________\n",
            "max_pooling2d_3 (MaxPooling2 (None, 6, 6, 128)         0         \n",
            "_________________________________________________________________\n",
            "conv2d_5 (Conv2D)            (None, 3, 3, 64)          131136    \n",
            "_________________________________________________________________\n",
            "average_pooling2d_1 (Average (None, 1, 1, 64)          0         \n",
            "_________________________________________________________________\n",
            "flatten_1 (Flatten)          (None, 64)                0         \n",
            "_________________________________________________________________\n",
            "dense_2 (Dense)              (None, 64)                4160      \n",
            "_________________________________________________________________\n",
            "dropout_1 (Dropout)          (None, 64)                0         \n",
            "_________________________________________________________________\n",
            "dense_3 (Dense)              (None, 10)                650       \n",
            "=================================================================\n",
            "Total params: 438,154\n",
            "Trainable params: 438,154\n",
            "Non-trainable params: 0\n",
            "_________________________________________________________________\n"
          ],
          "name": "stdout"
        }
      ]
    }
  ]
}